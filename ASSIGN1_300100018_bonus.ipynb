{
 "cells": [
  {
   "cell_type": "markdown",
   "metadata": {},
   "source": [
    "Assignment 1 of Hanson\n",
    "\n",
    "Legal Name Hanxiang Zhang\n",
    "Stu # 300100018"
   ]
  },
  {
   "cell_type": "markdown",
   "metadata": {},
   "source": [
    "To load all images, I generated a list of paths to the image files by reading the directory and file structure using the os package in python.\n",
    "\n",
    "To organize the images, I used if-else statements to place images of different labels together.\n",
    "\n",
    "There are 225 files in total.\n",
    "For binary classification, there are 135 uni files, 90 nonuni files.\n",
    "For multi classification, there are 60 underexposed, 60 overexposed, 105 regular files."
   ]
  },
  {
   "cell_type": "code",
   "execution_count": 15,
   "metadata": {
    "scrolled": false
   },
   "outputs": [
    {
     "name": "stdout",
     "output_type": "stream",
     "text": [
      "60\n",
      "60\n",
      "105\n"
     ]
    }
   ],
   "source": [
    "import os\n",
    "import numpy as np\n",
    "root_path = 'C:\\\\Users\\\\Hansonchang\\\\OneDrive\\\\Grad\\\\CNN in CV\\\\Phos2_0_2MP\\\\'\n",
    "\n",
    "all_files = []\n",
    "for root, dirs, files in os.walk(root_path):\n",
    "    for file in files:\n",
    "        if '.png' in file:\n",
    "            all_files.append(os.path.join(root, file))\n",
    "\n",
    "#Organize image files for binary classification\n",
    "uni_file = []\n",
    "nonuni_file = []\n",
    "for f in all_files:\n",
    "    #print(f)\n",
    "    if \"_uni_\" in f:\n",
    "        uni_file.append(f)\n",
    "    else:\n",
    "        nonuni_file.append(f)\n",
    "\n",
    "#Organize image files for multi classification\n",
    "unde_file = []\n",
    "over_file = []\n",
    "regu_file = []\n",
    "for f in all_files:\n",
    "    #print(f)\n",
    "    if \"_minus_\" in f:\n",
    "        unde_file.append(f)\n",
    "    elif \"_plus_\" in f:\n",
    "        over_file.append(f)\n",
    "    else:\n",
    "        regu_file.append(f)\n",
    "        \n",
    "#print('*******************************')\n",
    "#for f in unde_file:\n",
    "#    print(f)\n",
    "#print('================================')\n",
    "#for f in over_file:\n",
    "#    print(f)\n",
    "#print('================================')\n",
    "#for f in regu_file:\n",
    "#    print(f)\n",
    "    \n",
    "print(len(unde_file))\n",
    "print(len(over_file))\n",
    "print(len(regu_file))"
   ]
  },
  {
   "cell_type": "markdown",
   "metadata": {},
   "source": [
    "The next step is reading and preprocessing the images. For this part, you will need to use the skimage package. Amongst others, the following commands will be helpful: skimage.io.imread, skimage.color.rgb2gray, and skimage.rescale. Make sure to downsize the Phos2 0 2MP images further by rescaling them to 1/5 of their size. For questions 1.2 and 1.3, please work with grayscale images."
   ]
  },
  {
   "cell_type": "markdown",
   "metadata": {},
   "source": [
    "To read and preprocessing the images, I used skimage package to read the image, convert it to grayscale and rescale it to 1/5 of its size by using skimage.transform.rescale(image, 0.4472135955). Note that the 0.4472135955 is the square root of 1/5. This is because the parameter in rescale function is the scale for width and height, rather than for the whole image size.\n",
    "\n",
    "For the color image multi-classification, the only difference is that I did not convert images into grayscale images, and I keep the color values as it is."
   ]
  },
  {
   "cell_type": "code",
   "execution_count": 16,
   "metadata": {
    "scrolled": true
   },
   "outputs": [
    {
     "name": "stderr",
     "output_type": "stream",
     "text": [
      "C:\\Users\\Hansonchang\\Anaconda3\\lib\\site-packages\\skimage\\transform\\_warps.py:23: UserWarning: The default multichannel argument (None) is deprecated.  Please specify either True or False explicitly.  multichannel will default to False starting with release 0.16.\n",
      "  warn('The default multichannel argument (None) is deprecated.  Please '\n"
     ]
    }
   ],
   "source": [
    "import skimage\n",
    "\n",
    "#Read and processing image data for binary classification\n",
    "images = []\n",
    "labels = []\n",
    "\n",
    "#Read every images, converting them into grayscale images, and rescale them to 1/5 size\n",
    "#Then add each image to the \"images\" list, and then add its label to \"labels\" list.\n",
    "for (i, imgpath) in enumerate(uni_file):#uni_file\n",
    "    img = skimage.io.imread(imgpath)\n",
    "    imgg = skimage.color.rgb2gray(img)\n",
    "    imgu = skimage.transform.rescale(imgg, 0.4472135955) #sqrt(1/5)\n",
    "    imguu = imgu.flatten()\n",
    "    lb = 0\n",
    "    images.append(imguu)\n",
    "    labels.append(lb)\n",
    "\n",
    "for (i, imgpath) in enumerate(nonuni_file):\n",
    "    img = skimage.io.imread(imgpath)\n",
    "    imgg = skimage.color.rgb2gray(img)\n",
    "    imgu = skimage.transform.rescale(imgg, 0.4472135955)\n",
    "    imguu = imgu.flatten()\n",
    "    lb = 1\n",
    "    images.append(imguu)\n",
    "    labels.append(lb)\n",
    "\n",
    "#print(images)\n",
    "#print(labels)\n",
    "\n",
    "#Read and processing image data for multi classification\n",
    "images_mul = []\n",
    "labels_mul = []\n",
    "\n",
    "#Read every images, converting them into grayscale images, and rescale them to 1/5 size\n",
    "#Then add each image to the \"images_mul\" list, and then add its label to \"labels_mul\" list.\n",
    "for (i, imgpath) in enumerate(unde_file):\n",
    "    img = skimage.io.imread(imgpath)\n",
    "    imgg = skimage.color.rgb2gray(img)\n",
    "    imgu = skimage.transform.rescale(imgg, 0.4472135955)\n",
    "    imguu = imgu.flatten()\n",
    "    lb = 0\n",
    "    images_mul.append(imguu)\n",
    "    labels_mul.append(lb)\n",
    "\n",
    "for (i, imgpath) in enumerate(over_file):\n",
    "    img = skimage.io.imread(imgpath)\n",
    "    imgg = skimage.color.rgb2gray(img)\n",
    "    imgu = skimage.transform.rescale(imgg, 0.4472135955)\n",
    "    imguu = imgu.flatten()\n",
    "    lb = 1\n",
    "    images_mul.append(imguu)\n",
    "    labels_mul.append(lb)\n",
    "    \n",
    "for (i, imgpath) in enumerate(regu_file):\n",
    "    img = skimage.io.imread(imgpath)\n",
    "    imgg = skimage.color.rgb2gray(img)\n",
    "    imgu = skimage.transform.rescale(imgg, 0.4472135955)\n",
    "    imguu = imgu.flatten()\n",
    "    lb = 2\n",
    "    images_mul.append(imguu)\n",
    "    labels_mul.append(lb)\n",
    "\n",
    "\n",
    "\n",
    "###For Color Images!\n",
    "#Read every images, and rescale them to 1/5 size\n",
    "#Then add each image to the \"images_col\" list, and then add its label to \"labels_col\" list.\n",
    "images_col = []\n",
    "labels_col = []\n",
    "\n",
    "#Read and processing image data for multi classification\n",
    "\n",
    "for (i, imgpath) in enumerate(unde_file):\n",
    "    img = skimage.io.imread(imgpath)\n",
    "    imgu = skimage.transform.rescale(img, 0.4472135955)\n",
    "    imguu = imgu.flatten()\n",
    "    lb = 0\n",
    "    images_col.append(imguu)\n",
    "    labels_col.append(lb)\n",
    "\n",
    "for (i, imgpath) in enumerate(over_file):\n",
    "    img = skimage.io.imread(imgpath)\n",
    "    imgu = skimage.transform.rescale(img, 0.4472135955)\n",
    "    imguu = imgu.flatten()\n",
    "    lb = 1\n",
    "    images_col.append(imguu)\n",
    "    labels_col.append(lb)\n",
    "    \n",
    "for (i, imgpath) in enumerate(regu_file):\n",
    "    img = skimage.io.imread(imgpath)\n",
    "    imgu = skimage.transform.rescale(img, 0.4472135955)\n",
    "    imguu = imgu.flatten()\n",
    "    lb = 2\n",
    "    images_col.append(imguu)\n",
    "    labels_col.append(lb)\n",
    "\n",
    "#print(images_mul)\n",
    "#print(labels_mul)"
   ]
  },
  {
   "cell_type": "markdown",
   "metadata": {},
   "source": [
    "1.2 Binary Classifier\n",
    "The method to divide the dataset goes as follows.\n",
    "\n",
    "There are 225 files in total, including 135 uni files, 90 nonuni files.\n",
    "\n",
    "Divide data into training:validation:testing=7:2:1\n",
    "Our dataset is small, so that I get 10% of all data as testing data and 90% as training data. And I use 70% training samples to fit the model, the remaining 20% as validation samples in training process.\n",
    "\n",
    "There are 3 sets, that are 157 training samples, 45 validation samples and 23 testing samples.\n",
    "Both training samples and validation samples are considered as training data.\n",
    "\n",
    "When composing the sample sets, images are selected using stratified sampling based on the labels of the images. The ratio of data samples selected for each set between uniform images and nonuniform images is the ratio of the data samples between uniform and nonuniform image files. It means that the problem of data being imblanced between uniform and nonuniform images will not affect the model.\n",
    "\n",
    "Data are divided into 3 sets using statified sampling by using train_test_split twice. The first train_test_split divide all the data into 90% training data, i.e. 202 samples, and 10% testing data, i.e. 23 samples. Then the second train_test_split statement further divides the training data into training samples and validation samples using parameter 0.2222 for the validation part because it is 20% out of 90% of all data samples.\n",
    "\n",
    "The img_train, img_valid, img_test are for training samples, validation samples, testing samples respectively. While img_remain contains all training data.\n",
    "lb_train, lb_valid, lb_test store the corresponding actual labels.\n",
    "pdlb_remain, pdlb_test store the predicted labels using the fitted model and the training data (including both training and validation samples) to predict.\n",
    "\n",
    "After the model is finalized, the testing process starts.\n",
    "Only testing samples are used for testing, and after getting the testing result, the model cannot be changed any more."
   ]
  },
  {
   "cell_type": "code",
   "execution_count": 17,
   "metadata": {
    "scrolled": false
   },
   "outputs": [
    {
     "name": "stdout",
     "output_type": "stream",
     "text": [
      "202\n",
      "23\n",
      "157\n",
      "45\n"
     ]
    }
   ],
   "source": [
    "from sklearn.model_selection import train_test_split\n",
    "from sklearn.linear_model import LogisticRegression\n",
    "from sklearn.metrics import precision_score\n",
    "from sklearn.metrics import recall_score\n",
    "from sklearn.metrics import confusion_matrix\n",
    "from sklearn.metrics import roc_curve\n",
    "from sklearn.metrics import auc\n",
    "import matplotlib.pyplot as plt\n",
    "import numpy as np\n",
    "\n",
    "imagesa = np.array(images)\n",
    "labelsa = np.array(labels)\n",
    "\n",
    "(img_remain, img_test, lb_remain, lb_test) = train_test_split(imagesa, labelsa, stratify=labelsa, test_size=0.1)\n",
    "(img_train, img_valid, lb_train, lb_valid) = train_test_split(img_remain, lb_remain, stratify=lb_remain, test_size=0.2222) #0.2222, i.e. 2/9, is for the validation\n",
    "\n",
    "print(len(img_remain))\n",
    "print(len(img_test))\n",
    "print(len(img_train))\n",
    "print(len(img_valid))"
   ]
  },
  {
   "cell_type": "markdown",
   "metadata": {},
   "source": [
    "The training and validation:\n",
    "Method:\n",
    "I used LogisticRegression in sklearn to construct the model.\n",
    "For the training process, both training samples and validation samples are used.\n",
    "Training samples are used to fit the model.\n",
    "Both training samples and validation samples are used to do the validation, get the confusion matrix, the accruacy, the recall and the precision of the training process.\n",
    "Then the model is adjusted based on the training result."
   ]
  },
  {
   "cell_type": "code",
   "execution_count": 36,
   "metadata": {
    "scrolled": false
   },
   "outputs": [
    {
     "name": "stdout",
     "output_type": "stream",
     "text": [
      "\n",
      "\n",
      "Please wait\n",
      "Training accuracy: 98.0198019802%\n",
      "Training precision:100.0000000000%\n",
      "Training recall:95.0617283951%\n",
      "Training confusion matrix is:\n",
      "[[121   0]\n",
      " [  4  77]]\n"
     ]
    },
    {
     "data": {
      "image/png": "[encoded data removed]",
      "text/plain": [
       "<Figure size 432x288 with 1 Axes>"
      ]
     },
     "metadata": {
      "needs_background": "light"
     },
     "output_type": "display_data"
    }
   ],
   "source": [
    "print(\"\\n\")\n",
    "print(\"Please wait\")\n",
    "#model = LogisticRegression(penalty='l2', solver='lbfgs', max_iter=500)\n",
    "model = LogisticRegression(penalty='l2', solver='liblinear', max_iter=500)\n",
    "#model = LogisticRegression(penalty='l1', solver='liblinear', max_iter=500)\n",
    "\n",
    "model.fit(img_train, lb_train)\n",
    "pdlb_remain = model.predict(img_remain)\n",
    "val_accuracy = model.score(img_remain, lb_remain) #remain contains the training and validation data\n",
    "print(\"Training accuracy: {:.10f}%\".format(val_accuracy * 100))\n",
    "train_precision = precision_score(lb_remain, pdlb_remain)\n",
    "print(\"Training precision:{:.10f}%\".format(train_precision * 100))\n",
    "train_recall = recall_score(lb_remain, pdlb_remain)\n",
    "print(\"Training recall:{:.10f}%\".format(train_recall * 100))\n",
    "train_confu_matrix = confusion_matrix(lb_remain,pdlb_remain)\n",
    "print(\"Training confusion matrix is:\")\n",
    "print(train_confu_matrix)\n",
    "\n",
    "xaxis, yaxis, th = roc_curve(lb_remain, pdlb_remain)\n",
    "aucroc = auc(xaxis, yaxis)\n",
    "\n",
    "plt.title('ROC Curve')\n",
    "plt.plot(xaxis, yaxis, 'r', label = 'AUC is %0.4f' % aucroc)\n",
    "plt.legend(loc = 'lower right')\n",
    "plt.plot([0, 1], [0, 1],'b--')\n",
    "plt.xlim([0, 1])\n",
    "plt.ylim([0, 1.02])\n",
    "plt.xlabel('FPR')\n",
    "plt.ylabel('TPR')\n",
    "plt.show()"
   ]
  },
  {
   "cell_type": "markdown",
   "metadata": {},
   "source": [
    "The testing phrase:"
   ]
  },
  {
   "cell_type": "code",
   "execution_count": 37,
   "metadata": {},
   "outputs": [
    {
     "name": "stdout",
     "output_type": "stream",
     "text": [
      "Test accuracy: 95.6521739130%\n",
      "Test precision:100.0000000000%\n",
      "Test recall:88.8888888889%\n",
      "Test confusion matrix is:\n",
      "[[14  0]\n",
      " [ 1  8]]\n"
     ]
    },
    {
     "data": {
      "image/png": "[encoded data removed]",
      "text/plain": [
       "<Figure size 432x288 with 1 Axes>"
      ]
     },
     "metadata": {
      "needs_background": "light"
     },
     "output_type": "display_data"
    }
   ],
   "source": [
    "#Testing\n",
    "test_accuracy = model.score(img_test, lb_test)\n",
    "print(\"Test accuracy: {:.10f}%\".format(test_accuracy * 100))\n",
    "pdlb_test = model.predict(img_test)\n",
    "test_precision = precision_score(lb_test, pdlb_test)\n",
    "print(\"Test precision:{:.10f}%\".format(test_precision * 100))\n",
    "test_recall = recall_score(lb_test, pdlb_test)\n",
    "print(\"Test recall:{:.10f}%\".format(test_recall * 100))\n",
    "test_confu_matrix = confusion_matrix(lb_test,pdlb_test)\n",
    "print(\"Test confusion matrix is:\")\n",
    "print(test_confu_matrix)\n",
    "\n",
    "fpr, tpr, th = roc_curve(lb_test, pdlb_test)\n",
    "aucroc = auc(fpr, tpr)\n",
    "\n",
    "import matplotlib.pyplot as plt\n",
    "plt.title('ROC Curve')\n",
    "plt.plot(fpr, tpr, 'r', label = 'AUC is %0.4f' % aucroc)\n",
    "plt.legend(loc = 'lower right')\n",
    "plt.plot([0, 1], [0, 1],'b--')\n",
    "plt.xlim([0, 1])\n",
    "plt.ylim([0, 1.02])\n",
    "plt.xlabel('FPR')\n",
    "plt.ylabel('TPR')\n",
    "plt.show()"
   ]
  },
  {
   "cell_type": "markdown",
   "metadata": {},
   "source": [
    "Models and Result Analysis:\n",
    "I have constructed 3 models, the paramters are set differently for penalty and solver algorithms.\n",
    "The first model is the best model, when penalty is l2 (Ridge Regression) and solver is 'lbfgs'.\n",
    "The second model is the second best model, when penalty is l2 and solver is 'liblinear'.\n",
    "Then the last model is when penalty is l1 (Lasso Regression) and solver is 'liblinear'.\n",
    "Note that l1 penalty cannot work with 'lbfgs'.\n",
    "\n",
    "For the first model, it is shown when you run the code now and it works excellent.\n",
    "When the penalty is l2, 'lbfgs' has the best performance, making the training accuracy nearly or exactly 100% while working with l2 penalty when all other paramters are default. There is only 1 or 0 misclassified samples, and the ROC curve is a stright or nearly straight horizontal line at y=1 because AUC is 1.00 or 0.99.\n",
    "\n",
    "One example for 1st model training result:\n",
    "Training accuracy: 99.5049504950%\n",
    "Training precision:100.0000000000%\n",
    "Training recall:98.7654320988%\n",
    "Training confusion matrix is:\n",
    "                   Actual\n",
    "                   uniform Nonuniform\n",
    "Predicted uniform  [[121         0]\n",
    "       nonuniform  [  1        80]]\n",
    "\n",
    "When the model is tested using testing set, the accuracy is usually 100% or nearly 100%.\n",
    "One example for first model testing result:\n",
    "Test accuracy: 100.0000000000%\n",
    "Test precision:100.0000000000%\n",
    "Test recall:100.0000000000%\n",
    "Test confusion matrix is:\n",
    "                   Actual\n",
    "                   uniform Nonuniform\n",
    "Predicted uniform  [[14           0]\n",
    "       nonuniform  [ 0            9]]\n",
    "\n",
    "For the 2nd model, it works the same result with the first model in training process.\n",
    "But it is a little bit inaccurate for testing, there is one misclassified sample. And the testing result is as follows.\n",
    "Test accuracy: 95.6521739130%\n",
    "Test precision:100.0000000000%\n",
    "Test recall:88.8888888889%\n",
    "Test confusion matrix is:\n",
    "                   Actual\n",
    "                   uniform Nonuniform\n",
    "Predicted uniform  [[14           0]\n",
    "       nonuniform  [ 1            8]]\n",
    "\n",
    "And the 3rd model is as follows.\n",
    "The penalty is set to l1 using 'liblinear' solver, the accuracy is slightly lower for both training and testing. This result is shown as follows. As you can see, the model works better in training than testing, and overfitting could be the reason. But overall the accuracy is higher than 90%, which means the model is working fairly good.\n",
    "\n",
    "Training accuracy: 96.0396039604%\n",
    "Training precision:100.0000000000%\n",
    "Training recall:90.1234567901%\n",
    "Training confusion matrix is:\n",
    "[[121   0]\n",
    " [  8  73]]\n",
    "\n",
    "Test accuracy: 91.3043478261%\n",
    "Test precision:100.0000000000%\n",
    "Test recall:77.7777777778%\n",
    "Test confusion matrix is:\n",
    "[[14  0]\n",
    " [ 2  7]]\n",
    "\n",
    "\n",
    "Conclusions:\n",
    "Based on the result we got, the uniform illumination class is misclassified more often than the nonuniform class.\n",
    "Even though model 1 is slightly better than model 2 for testing, their performances are basically the same because the dataset could be randomly divided again and the result could be similar.\n",
    "L2 regularization works better than l1 regularization for this problem.\n",
    "This problem of classifying uniform and nonuniform illuminated images could be really easy for logistic regression to solve. It is quite obvious to find the difference between the distribution of pixel values of uniform and nonuniform illuminated grayscaled images. That's why the performance are excellent (higher than 90% accuracy).\n"
   ]
  },
  {
   "cell_type": "markdown",
   "metadata": {},
   "source": [
    "1.3 Multiclass classifier\n",
    "Divide the dataset:\n",
    "The basic idea and method are the same with data division for the previous binary classification.\n",
    "There are 225 files in total, including 60 underexposed, 60 overexposed, 105 regular files.\n",
    "Divide data into training:validation:testing=7:2:1\n",
    "There are 157 training samples, 45 validation samples, and 23 testing samples.\n",
    "Both training and validation samples are considered as training data.\n",
    "Stratified sampling are used by using train_test_split, based on the label of the data samples."
   ]
  },
  {
   "cell_type": "code",
   "execution_count": 20,
   "metadata": {
    "scrolled": true
   },
   "outputs": [
    {
     "name": "stdout",
     "output_type": "stream",
     "text": [
      "202\n",
      "23\n",
      "157\n",
      "45\n"
     ]
    }
   ],
   "source": [
    "from sklearn.model_selection import train_test_split\n",
    "from sklearn.linear_model import LogisticRegression\n",
    "from sklearn.metrics import precision_score\n",
    "from sklearn.metrics import recall_score\n",
    "from sklearn.metrics import confusion_matrix\n",
    "import numpy as np\n",
    "\n",
    "imagesb = np.array(images_mul)\n",
    "labelsb = np.array(labels_mul)\n",
    "\n",
    "(img_remain_b, img_test_b, lb_remain_b, lb_test_b) = train_test_split(imagesb, labelsb, stratify=labelsb, test_size=0.1)\n",
    "(img_train_b, img_valid_b, lb_train_b, lb_valid_b) = train_test_split(img_remain_b, lb_remain_b, stratify=lb_remain_b, test_size=0.2222)\n",
    "\n",
    "print(len(img_remain_b))\n",
    "print(len(img_test_b))\n",
    "print(len(img_train_b))\n",
    "print(len(img_valid_b))"
   ]
  },
  {
   "cell_type": "markdown",
   "metadata": {},
   "source": [
    "The training and validation:\n",
    "I constructed 3 models, all use l2 penalty.\n",
    "Model 1 uses 'newton-cg' solver algorithm for optimization and 'multinomial' for multi-class loss.\n",
    "Model 2 uses 'lbfgs' solver algorithm for optimization and 'multinomial' for multi-class loss.\n",
    "Model 3 uses 'liblinear' solver algorithm for optimization and 'ovr' for multi-class loss.\n",
    "\n",
    "Process of training:\n",
    "The training samples are fitted into the classifier, and then both training and validation samples are used for calculating the accuracy and confusion matrix."
   ]
  },
  {
   "cell_type": "code",
   "execution_count": 27,
   "metadata": {
    "scrolled": true
   },
   "outputs": [
    {
     "name": "stdout",
     "output_type": "stream",
     "text": [
      "\n",
      "\n",
      "Please wait\n",
      "Training accuracy: 100.0000000000%\n",
      "Training confusion matrix is:\n",
      "[[54  0  0]\n",
      " [ 0 54  0]\n",
      " [ 0  0 94]]\n"
     ]
    }
   ],
   "source": [
    "print(\"\\n\")\n",
    "print(\"Please wait\")\n",
    "#from model 1 to model 3\n",
    "model = LogisticRegression(penalty='l2', solver='newton-cg', max_iter=2000, multi_class='multinomial')\n",
    "#model = LogisticRegression(penalty='l2', solver='lbfgs', max_iter=2000, multi_class='multinomial')\n",
    "#model = LogisticRegression(penalty='l2', solver='lbfgs', max_iter=2000, multi_class='ovr') \n",
    "#model = LogisticRegression(penalty='l2', solver='liblinear', max_iter=2000, multi_class='ovr')\n",
    "\n",
    "model.fit(img_train_b, lb_train_b)\n",
    "pdlb_remain_b = model.predict(img_remain_b)\n",
    "val_accuracy_b = model.score(img_remain_b, lb_remain_b) #remain contains the training and validation data\n",
    "print(\"Training accuracy: {:.10f}%\".format(val_accuracy_b * 100))\n",
    "train_confu_matrix_b = confusion_matrix(lb_remain_b, pdlb_remain_b)\n",
    "print(\"Training confusion matrix is:\")\n",
    "print(train_confu_matrix_b)"
   ]
  },
  {
   "cell_type": "markdown",
   "metadata": {},
   "source": [
    "The testing phrase:"
   ]
  },
  {
   "cell_type": "code",
   "execution_count": 28,
   "metadata": {
    "scrolled": true
   },
   "outputs": [
    {
     "name": "stdout",
     "output_type": "stream",
     "text": [
      "Test accuracy: 100.0000000000%\n",
      "Test confusion matrix is:\n",
      "[[ 6  0  0]\n",
      " [ 0  6  0]\n",
      " [ 0  0 11]]\n"
     ]
    }
   ],
   "source": [
    "#Testing\n",
    "test_accuracy_b = model.score(img_test_b, lb_test_b)\n",
    "print(\"Test accuracy: {:.10f}%\".format(test_accuracy_b * 100))\n",
    "pdlb_test_b = model.predict(img_test_b)\n",
    "test_confu_matrix_b = confusion_matrix(lb_test_b,pdlb_test_b)\n",
    "print(\"Test confusion matrix is:\")\n",
    "print(test_confu_matrix_b)"
   ]
  },
  {
   "cell_type": "markdown",
   "metadata": {},
   "source": [
    "Models and Result Analysis:\n",
    "All the models have a good performance. In the training process, these models perform really similar, with an accuracy of about 98%. But in testing, Model 1 and model 2 have similar performance, where testing accuracy is about 91%. and both of them perform better than model 3&4, whose accuracy is nearly 87%. The key difference between the model 1&2 and model 3&4 is that they use different loss function to do multi-classification.\n",
    "\n",
    "For multi-class parameter, the multinomial loss means that \"the loss minimised is the multinomial loss fit across the entire probability distribution\"[1]. While 'ovr' loss means that 'one versus rest', which means that each class is compared with the remaining classes, thus becomes a binary classification problem.\n",
    "\n",
    "In addition, all classifiers performs better in training than testing by 7% to 12%. The reason is the overfitting problem, when the model is fitted too well for the training data. Then it becomes not general enough to perform that well using testing set.\n",
    "\n",
    "Model 1 uses 'newton-cg' solver algorithm for dealing with multinomial loss. The example is shown below.\n",
    "\n",
    "Training accuracy: 98.5148514851%\n",
    "Training confusion matrix is:\n",
    "                  Actual\n",
    "                  Under Over Regular\n",
    "Predicted Under  [[51    0     3]\n",
    "           Over   [ 0    54    0]\n",
    "         Regular  [ 0    0    94]]\n",
    "\n",
    "Test accuracy: 91.3043478261%\n",
    "Test confusion matrix is:\n",
    "                  Actual\n",
    "                  Under Over Regular\n",
    "Predicted Under  [[ 5    0     1]\n",
    "           Over   [ 0    5     1]\n",
    "         Regular  [ 0    0    11]]\n",
    "\n",
    "Model 2 uses 'lbfgs' solver algorithm for dealing with multinomial loss. The example is shown below.\n",
    "Training accuracy: 98.5148514851%\n",
    "Training confusion matrix is:\n",
    "                  Actual\n",
    "                  Under Over Regular\n",
    "Predicted Under   [[51   0    3]\n",
    "          Over     [ 0   54   0]\n",
    "        Regular    [ 0   0   94]]\n",
    "\n",
    "Test accuracy: 91.3043478261%\n",
    "Test confusion matrix is:\n",
    "                  Actual\n",
    "                  Under Over Regular\n",
    "Predicted Under   [[ 5   0    1]\n",
    "          Over     [ 0   5    1]\n",
    "        Regular    [ 0   0   11]]\n",
    "\n",
    "Model 3 uses 'lbfgs' solver. But for multiclass loss, it uses 'ovr' loss. Compared with model 2 which uses the same solver, model 3 perform worse than model 2 probably because the multi-class loss function is different. \n",
    "Training accuracy: 98.0198019802%\n",
    "Training confusion matrix is:\n",
    "[[51  0  3]\n",
    " [ 0 54  0]\n",
    " [ 1  0 93]]\n",
    " \n",
    "Test accuracy: 86.9565217391%\n",
    "Test confusion matrix is:\n",
    "[[ 5  0  1]\n",
    " [ 0  5  1]\n",
    " [ 1  0 10]]\n",
    "\n",
    "Model 4 uses 'liblinear' solver algorithm for dealing with 'ovr' loss. The example is shown below.\n",
    "Training accuracy: 98.0198019802%\n",
    "Training confusion matrix is:\n",
    " [[53   0  1]\n",
    "  [0   53  1]\n",
    "  [0    2 92]]\n",
    "\n",
    "Test accuracy: 86.956521739%\n",
    "Test confusion matrix is:\n",
    "[[ 5  0  1]\n",
    " [ 0  5  1]\n",
    " [ 0  1 10]]\n",
    "\n",
    "Conclusion:\n",
    "Based on the result, I find that regular class images are most likely to be misclassified. This is probably because that nonuniform illuminated images are classified as regular class images as well, which may caused the confusion.\n",
    "Compare the result obtained between the classifiers that implement 'multinomial' and 'ovr' loss, it is obvious that 'multinomial' works better than 'ovr' loss for this problem. Classifier 1&2 have testing accuracy of 91%, while classifier 3&4 have 86%. This is probably because in 'ovr' loss, the multi-classification problem is somehow converted into binary problem, which makes the performance worse in testing.\n",
    "This problem of classifying underexposed, overexposed and regular images could be not difficult for logistic regression, because the lowest testing accuracy is more than 86%. The difference of the distribution of pixel values of these three classes are easy to find.\n"
   ]
  },
  {
   "cell_type": "markdown",
   "metadata": {},
   "source": [
    "For the bonus, perform the multi-class regression of Section 1.3 but with colour images and try to\n",
    "improve the results further. Use an overexposed, an underexposed and a correctly exposed image\n",
    "not in the Phos2 0 2MP dataset and have it classified by your model from Section 1.3. Disuss the\n",
    "result. Make sure to discuss your improvements in the Jupyter notebook markup: No discussion,\n",
    "no bonus marks. Hint: Consider the classical computer vision pipeline. "
   ]
  },
  {
   "cell_type": "markdown",
   "metadata": {},
   "source": [
    "1.4 For color multiclass classification\n",
    "The method of data preprocessing, data division, training and testing are almost the same with 1.3 grayscale multiclass classification, except that the images are not converted into grayscale in image preprocessing."
   ]
  },
  {
   "cell_type": "code",
   "execution_count": 29,
   "metadata": {},
   "outputs": [
    {
     "name": "stdout",
     "output_type": "stream",
     "text": [
      "202\n",
      "23\n",
      "157\n",
      "45\n"
     ]
    }
   ],
   "source": [
    "#divide the data\n",
    "from sklearn.model_selection import train_test_split\n",
    "from sklearn.linear_model import LogisticRegression\n",
    "from sklearn.metrics import confusion_matrix\n",
    "import numpy as np\n",
    "\n",
    "imagesb = np.array(images_col)\n",
    "labelsb = np.array(labels_col)\n",
    "\n",
    "(img_remain_b, img_test_b, lb_remain_b, lb_test_b) = train_test_split(imagesb, labelsb, stratify=labelsb, test_size=0.1)\n",
    "(img_train_b, img_valid_b, lb_train_b, lb_valid_b) = train_test_split(img_remain_b, lb_remain_b, stratify=lb_remain_b, test_size=0.2222)\n",
    "\n",
    "print(len(img_remain_b))\n",
    "print(len(img_test_b))\n",
    "print(len(img_train_b))\n",
    "print(len(img_valid_b))"
   ]
  },
  {
   "cell_type": "markdown",
   "metadata": {},
   "source": [
    "The training process:"
   ]
  },
  {
   "cell_type": "code",
   "execution_count": 30,
   "metadata": {
    "scrolled": true
   },
   "outputs": [
    {
     "name": "stdout",
     "output_type": "stream",
     "text": [
      "\n",
      "\n",
      "Please wait\n",
      "Training accuracy: 95.5445544554%\n",
      "Training confusion matrix is:\n",
      "[[52  0  2]\n",
      " [ 1 51  2]\n",
      " [ 2  2 90]]\n"
     ]
    }
   ],
   "source": [
    "print(\"\\n\")\n",
    "print(\"Please wait\")\n",
    "#from model 1 to model 3\n",
    "#model = LogisticRegression(penalty='l2', solver='newton-cg', max_iter=2000, multi_class='multinomial')\n",
    "#model = LogisticRegression(penalty='l2', solver='lbfgs', max_iter=4000, multi_class='multinomial')\n",
    "#model = LogisticRegression(penalty='l2', solver='lbfgs', max_iter=2000, multi_class='ovr') \n",
    "model = LogisticRegression(penalty='l2', solver='liblinear', max_iter=2000, multi_class='ovr')\n",
    "\n",
    "model.fit(img_train_b, lb_train_b)\n",
    "pdlb_remain_b = model.predict(img_remain_b)\n",
    "val_accuracy_b = model.score(img_remain_b, lb_remain_b) #remain contains the training and validation data\n",
    "print(\"Training accuracy: {:.10f}%\".format(val_accuracy_b * 100))\n",
    "train_confu_matrix_b = confusion_matrix(lb_remain_b, pdlb_remain_b)\n",
    "print(\"Training confusion matrix is:\")\n",
    "print(train_confu_matrix_b)"
   ]
  },
  {
   "cell_type": "markdown",
   "metadata": {},
   "source": [
    "The testing process:"
   ]
  },
  {
   "cell_type": "code",
   "execution_count": 31,
   "metadata": {},
   "outputs": [
    {
     "name": "stdout",
     "output_type": "stream",
     "text": [
      "Test accuracy: 91.3043478261%\n",
      "Test confusion matrix is:\n",
      "[[ 6  0  0]\n",
      " [ 0  5  1]\n",
      " [ 1  0 10]]\n"
     ]
    }
   ],
   "source": [
    "#Testing\n",
    "test_accuracy_b = model.score(img_test_b, lb_test_b)\n",
    "print(\"Test accuracy: {:.10f}%\".format(test_accuracy_b * 100))\n",
    "pdlb_test_b = model.predict(img_test_b)\n",
    "test_confu_matrix_b = confusion_matrix(lb_test_b,pdlb_test_b)\n",
    "print(\"Test confusion matrix is:\")\n",
    "print(test_confu_matrix_b)"
   ]
  },
  {
   "cell_type": "markdown",
   "metadata": {},
   "source": [
    "What I did for color image multiclass classification:\n",
    "The only difference is that the input is color image rather than grayscaled image.\n",
    "And I used the same 4 sklearn Logistic Regression models from 1.3 gray scaled image classification.\n",
    "\n",
    "DISCUSSION FOR COLOR IMAGE MULTICLASS CLASSIFICATION\n",
    "The running time for training of color image classification is much slower than grayscaled images.\n",
    "But the performance of color input is better than the grayscaled one.\n",
    "\n",
    "The 1st model which implements 'newton-cg' solver with 'motinomial' loss has achieved accuracy of 100% in training, and also 100% in testing. It is better than the grayscaled image multi-classification using the same model, which gives 98% accuracy in training, 91% in testing. This is probably because that color input values provides much more detail regarding the illumination condition compared with grayscaled images.\n",
    "One example of 1st model is shown below.\n",
    "Models and Result Analysis:\n",
    "Training accuracy: 100.0000000000%\n",
    "Training confusion matrix is:\n",
    "                  Actual\n",
    "                  Under Over Regu\n",
    "Predicted Under [[54    0    0]\n",
    "           Over [ 0    54    0]\n",
    "           Regu [ 0     0   94]]\n",
    "\n",
    "Test accuracy: 100.0000000000%\n",
    "Test confusion matrix is:\n",
    "[[ 6  0  0]\n",
    " [ 0  6  0]\n",
    " [ 0  0 11]]\n",
    " \n",
    "Model 2, which uses 'lbfgs' optimization and 'motinomial' loss also achieved 100% training accuracy and 100% testing accuracy. \n",
    " \n",
    "Both model 3 and model 4 use 'ovr' loss, and both of them perform excellent for training with 99% and 97% training accuracy respectively, but comparatively worse for testing. The testing accuracy is only 86% for model 3, and it is only 82% for model 4.\n",
    "\n",
    "Apparently model 3 and model 4 suffer from overfitting problem because the training accuracy is higher than the testing accuracy by 13% and 15% respectively.\n",
    "\n",
    "And the difference between model 3 and model 4 is the solver algorithm. Model 3 uses 'lbfgs' which is better than 'liblinear' used in model 4.\n",
    "\n",
    "The model 3 result is:\n",
    "Training accuracy: 99.0099009901%\n",
    "Training confusion matrix is:\n",
    "[[53  0  1]\n",
    " [ 0 54  0]\n",
    " [ 1  0 93]]\n",
    "\n",
    "Test accuracy: 86.9565217391%\n",
    "Test confusion matrix is:\n",
    "[[6 0 0]\n",
    " [0 6 0]\n",
    " [3 0 8]]\n",
    " \n",
    "\n",
    "Model 4 result is:\n",
    "Training accuracy: 97.5247524752%\n",
    "Training confusion matrix is:\n",
    " [[52  0  2]\n",
    " [ 0 53  1]\n",
    " [ 1  1 92]]\n",
    " \n",
    "Test accuracy: 82.6086956522%\n",
    "Test confusion matrix is:\n",
    "[[6 0 0]\n",
    " [0 6 0]\n",
    " [3 1 7]]\n",
    " \n",
    " \n",
    "Finding: Based on all the result, there is no class that are more easily confused in the case of color image multi-classification. This is because that the color input values provides more diversed and detailed info for the illumination condition.\n",
    "\n",
    "Overall, the color image classification is better than grayscaled image classification for Logistic Regression model with motinomial loss function in sci-kit learn. And this classification problem is easy for logistic regression to solve. But color input values are larger than grayscaled, so that there is a tradeoff between time and accuracy."
   ]
  },
  {
   "cell_type": "markdown",
   "metadata": {},
   "source": [
    "Reference:\n",
    "1. https://scikit-learn.org/stable/modules/generated/sklearn.linear_model.LogisticRegression.html\n",
    "2. https://stackoverflow.com/questions/25009284/how-to-plot-roc-curve-in-python"
   ]
  }
 ],
 "metadata": {
  "kernelspec": {
   "display_name": "Python 3",
   "language": "python",
   "name": "python3"
  },
  "language_info": {
   "codemirror_mode": {
    "name": "ipython",
    "version": 3
   },
   "file_extension": ".py",
   "mimetype": "text/x-python",
   "name": "python",
   "nbconvert_exporter": "python",
   "pygments_lexer": "ipython3",
   "version": "3.7.3"
  }
 },
 "nbformat": 4,
 "nbformat_minor": 2
}
